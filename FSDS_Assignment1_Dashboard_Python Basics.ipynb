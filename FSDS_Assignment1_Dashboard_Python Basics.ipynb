{
 "cells": [
  {
   "cell_type": "markdown",
   "id": "15936d90",
   "metadata": {},
   "source": [
    "Question1: \n",
    "\n",
    "1. In the below elements which of them are values or an expression? eg:- values can be\n",
    "integer or string and expressions will be mathematical operators.\n",
    "* \n",
    "&#39;hello&#39;\n",
    "-87.8\n",
    "-\n",
    "/\n",
    "+\n",
    "6"
   ]
  },
  {
   "cell_type": "markdown",
   "id": "ae42f64b",
   "metadata": {},
   "source": [
    "Answer1: \n",
    "\n",
    "Operators are: *, -, /, +\n",
    "Values are: 'hello', -87.8, 6"
   ]
  },
  {
   "cell_type": "markdown",
   "id": "5904b4b7",
   "metadata": {},
   "source": [
    "Question 2. What is the difference between string and variable?"
   ]
  },
  {
   "cell_type": "markdown",
   "id": "bcafa005",
   "metadata": {},
   "source": [
    "Answer2:\n",
    "\n",
    "String is a value/data wherein variable is the space in the memory which is used to store values/data"
   ]
  },
  {
   "cell_type": "markdown",
   "id": "7d591810",
   "metadata": {},
   "source": [
    "Question3: 3. Describe three different data types."
   ]
  },
  {
   "cell_type": "markdown",
   "id": "a17e0d8b",
   "metadata": {},
   "source": [
    "Answer3: Three different dataypes in python are:\n",
    "\n",
    "1. String represented as str.\n",
    "2. Integer represented as int.\n",
    "3. Boolean represented as bool."
   ]
  },
  {
   "cell_type": "markdown",
   "id": "00a39105",
   "metadata": {},
   "source": [
    "Question 4. What is an expression made up of? What do all expressions do?"
   ]
  },
  {
   "cell_type": "markdown",
   "id": "3bc3f5e8",
   "metadata": {},
   "source": [
    "Answer 4:\n",
    "An expression is a combination of values, variables, operators, and calls to functions. Expressions need to be evaluated. If you ask Python to print an expression, the interpreter evaluates the expression and displays the result."
   ]
  },
  {
   "cell_type": "markdown",
   "id": "76038aa3",
   "metadata": {},
   "source": [
    "Question 5. This assignment statements, like spam = 10. What is the difference between an\n",
    "expression and a statement?"
   ]
  },
  {
   "cell_type": "markdown",
   "id": "694cbb11",
   "metadata": {},
   "source": [
    "Answer 5: An expression evaluates to a single value. A statement does not."
   ]
  },
  {
   "cell_type": "markdown",
   "id": "d70bf3cf",
   "metadata": {},
   "source": [
    "Question 6. After running the following code, what does the variable bacon contain?\n",
    "bacon = 22\n",
    "bacon + 1"
   ]
  },
  {
   "cell_type": "markdown",
   "id": "13b43ac3",
   "metadata": {},
   "source": [
    "Answer 6: The Variable bacon still holds the value as 22 as we have not assinged bacon+1 to original bacon variable\n"
   ]
  },
  {
   "cell_type": "code",
   "execution_count": 11,
   "id": "8bc5b748",
   "metadata": {},
   "outputs": [
    {
     "data": {
      "text/plain": [
       "22"
      ]
     },
     "execution_count": 11,
     "metadata": {},
     "output_type": "execute_result"
    }
   ],
   "source": [
    "## Code for Answer6:\n",
    "bacon = 22\n",
    "bacon + 1\n",
    "bacon"
   ]
  },
  {
   "cell_type": "markdown",
   "id": "20a53416",
   "metadata": {},
   "source": [
    "Question 7: 7. What should the values of the following two terms be?\n",
    "&#39;spam&#39; + &#39;spamspam&#39;\n",
    "&#39;spam&#39; * 3"
   ]
  },
  {
   "cell_type": "markdown",
   "id": "7565330e",
   "metadata": {},
   "source": [
    "Answer 7: Both the expression evaluates to the same value 'spamspamspam'"
   ]
  },
  {
   "cell_type": "markdown",
   "id": "99f30431",
   "metadata": {},
   "source": [
    "Question 8. Why is eggs a valid variable name while 100 is invalid?"
   ]
  },
  {
   "cell_type": "markdown",
   "id": "46892022",
   "metadata": {},
   "source": [
    "Answer 8: Variable names cannot begin with a number."
   ]
  },
  {
   "cell_type": "markdown",
   "id": "5a106e38",
   "metadata": {},
   "source": [
    "Question 9. What three functions can be used to get the integer, floating-point number, or string\n",
    "version of a value?"
   ]
  },
  {
   "cell_type": "markdown",
   "id": "85ada7ce",
   "metadata": {},
   "source": [
    "Answer 9: int(), float(), str() are the 3 functions that can be used to get the integer, floating-point number, or string version of a value passed to them"
   ]
  },
  {
   "cell_type": "markdown",
   "id": "959a5e1f",
   "metadata": {},
   "source": [
    "Question 10. Why does this expression cause an error? How can you fix it?\n",
    "&#39;I have eaten &#39; + 99 + &#39; burritos.&#39;"
   ]
  },
  {
   "cell_type": "markdown",
   "id": "19626cfb",
   "metadata": {},
   "source": [
    "Answer 10: Error occurs because we can not concatenate string and integer. I can fix the code as shown below:\n"
   ]
  },
  {
   "cell_type": "code",
   "execution_count": 17,
   "id": "3929128d",
   "metadata": {},
   "outputs": [
    {
     "data": {
      "text/plain": [
       "'I have eaten 99 burritos.'"
      ]
     },
     "execution_count": 17,
     "metadata": {},
     "output_type": "execute_result"
    }
   ],
   "source": [
    "'I have eaten ' + '99' + ' burritos.' ## Converted int 99 to string '99' by adding quotes around the value"
   ]
  },
  {
   "cell_type": "code",
   "execution_count": null,
   "id": "0f96d06d",
   "metadata": {},
   "outputs": [],
   "source": []
  }
 ],
 "metadata": {
  "kernelspec": {
   "display_name": "Python 3 (ipykernel)",
   "language": "python",
   "name": "python3"
  },
  "language_info": {
   "codemirror_mode": {
    "name": "ipython",
    "version": 3
   },
   "file_extension": ".py",
   "mimetype": "text/x-python",
   "name": "python",
   "nbconvert_exporter": "python",
   "pygments_lexer": "ipython3",
   "version": "3.9.7"
  }
 },
 "nbformat": 4,
 "nbformat_minor": 5
}
