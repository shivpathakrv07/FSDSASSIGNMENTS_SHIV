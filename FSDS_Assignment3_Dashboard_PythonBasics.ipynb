{
 "cells": [
  {
   "cell_type": "markdown",
   "id": "9397f735",
   "metadata": {},
   "source": [
    "1. Why are functions advantageous to have in your programs?"
   ]
  },
  {
   "cell_type": "markdown",
   "id": "88f4391e",
   "metadata": {},
   "source": [
    "Answer1: Functions reduces the need to write the same code again and again. It makes the overall code shorter, make it more readable and easier to update"
   ]
  },
  {
   "cell_type": "markdown",
   "id": "4839c930",
   "metadata": {},
   "source": [
    "2. When does the code in a function run: when it&#39;s specified or when it&#39;s called?"
   ]
  },
  {
   "cell_type": "markdown",
   "id": "82b1be43",
   "metadata": {},
   "source": [
    "Answer 2: The code in a function runs when it is called and not when it is specified."
   ]
  },
  {
   "cell_type": "markdown",
   "id": "c7f9f9d2",
   "metadata": {},
   "source": [
    "3. What statement creates a function?"
   ]
  },
  {
   "cell_type": "markdown",
   "id": "1cad821d",
   "metadata": {},
   "source": [
    "Answer 3: def statement creates/defines a function."
   ]
  },
  {
   "cell_type": "markdown",
   "id": "f26315c2",
   "metadata": {},
   "source": [
    "4. What is the difference between a function and a function call?"
   ]
  },
  {
   "cell_type": "markdown",
   "id": "a244af90",
   "metadata": {},
   "source": [
    "Answer 4: A function consists of the def statement and the code in its def clause.\n",
    "\n",
    "A function call is what moves the program execution into the function, and the function call evaluates to the function's return value."
   ]
  },
  {
   "cell_type": "markdown",
   "id": "ba91adde",
   "metadata": {},
   "source": [
    "5. How many global scopes are there in a Python program? How many local scopes?"
   ]
  },
  {
   "cell_type": "markdown",
   "id": "a7dcf5f0",
   "metadata": {},
   "source": [
    "Answer 5: There is one global scope, and a local scope is created whenever a function is called."
   ]
  },
  {
   "cell_type": "markdown",
   "id": "e06a77e6",
   "metadata": {},
   "source": [
    "6. What happens to variables in a local scope when the function call returns?"
   ]
  },
  {
   "cell_type": "markdown",
   "id": "58bc1a7b",
   "metadata": {},
   "source": [
    "Answer 6: When a function returns, the local scope is destroyed, and all the variables in it are forgotten."
   ]
  },
  {
   "cell_type": "markdown",
   "id": "0f06f1eb",
   "metadata": {},
   "source": [
    "7. What is the concept of a return value? Is it possible to have a return value in an expression?"
   ]
  },
  {
   "cell_type": "markdown",
   "id": "6b94bb4e",
   "metadata": {},
   "source": [
    "Answer 7: A return value is the value that a function call evaluates to. Like any value, a return value can be used as part of an expression."
   ]
  },
  {
   "cell_type": "markdown",
   "id": "6873fb00",
   "metadata": {},
   "source": [
    "8. If a function does not have a return statement, what is the return value of a call to that function?"
   ]
  },
  {
   "cell_type": "markdown",
   "id": "5e490f83",
   "metadata": {},
   "source": [
    "Answer 8: The return value is NONE if the function does not have a return statement"
   ]
  },
  {
   "cell_type": "markdown",
   "id": "e186e188",
   "metadata": {},
   "source": [
    "9. How do you make a function variable refer to the global variable?"
   ]
  },
  {
   "cell_type": "markdown",
   "id": "623aff88",
   "metadata": {},
   "source": [
    "Answer 9: A global statement will make a function variable refer to the global variable."
   ]
  },
  {
   "cell_type": "markdown",
   "id": "fb8aeb9e",
   "metadata": {},
   "source": [
    "10. What is the data type of None?"
   ]
  },
  {
   "cell_type": "markdown",
   "id": "af0edc19",
   "metadata": {},
   "source": [
    "Answer 10: The data type of None is NoneType."
   ]
  },
  {
   "cell_type": "markdown",
   "id": "6f10874f",
   "metadata": {},
   "source": [
    "11. What does the sentence import areallyourpetsnamederic do?"
   ]
  },
  {
   "cell_type": "markdown",
   "id": "e2f36bed",
   "metadata": {},
   "source": [
    "Answer 11: The sentence import areallyourpetsnamederic imports a module named areallyourpetsnamederic"
   ]
  },
  {
   "cell_type": "markdown",
   "id": "78f2f9d6",
   "metadata": {},
   "source": [
    "12. If you had a bacon() feature in a spam module, what would you call it after importing spam?"
   ]
  },
  {
   "cell_type": "markdown",
   "id": "6c362d51",
   "metadata": {},
   "source": [
    "Answer 12: spam.bacon()"
   ]
  },
  {
   "cell_type": "markdown",
   "id": "513d6f09",
   "metadata": {},
   "source": [
    "13. What can you do to save a programme from crashing if it encounters an error?"
   ]
  },
  {
   "cell_type": "markdown",
   "id": "88a2aded",
   "metadata": {},
   "source": [
    "Answer 13: To save a programme from crashing if it encounters an error we can use exception handling. We can place the code in try and except block."
   ]
  },
  {
   "cell_type": "markdown",
   "id": "c1d201c4",
   "metadata": {},
   "source": [
    "14. What is the purpose of the try clause? What is the purpose of the except clause?"
   ]
  },
  {
   "cell_type": "markdown",
   "id": "363a298a",
   "metadata": {},
   "source": [
    "Answer 14: The try block lets you test a block of code for errors. The except block lets you handle the error."
   ]
  }
 ],
 "metadata": {
  "kernelspec": {
   "display_name": "Python 3 (ipykernel)",
   "language": "python",
   "name": "python3"
  },
  "language_info": {
   "codemirror_mode": {
    "name": "ipython",
    "version": 3
   },
   "file_extension": ".py",
   "mimetype": "text/x-python",
   "name": "python",
   "nbconvert_exporter": "python",
   "pygments_lexer": "ipython3",
   "version": "3.9.7"
  }
 },
 "nbformat": 4,
 "nbformat_minor": 5
}
