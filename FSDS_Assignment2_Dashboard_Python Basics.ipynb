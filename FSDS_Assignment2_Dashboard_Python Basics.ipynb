{
 "cells": [
  {
   "cell_type": "markdown",
   "id": "4df44ed2",
   "metadata": {},
   "source": [
    "Question 1.What are the two values of the Boolean data type? How do you write them?"
   ]
  },
  {
   "cell_type": "markdown",
   "id": "9beca6c6",
   "metadata": {},
   "source": [
    "Answer 1: True and False, using capital T and F, with the rest of the word in lowercase"
   ]
  },
  {
   "cell_type": "markdown",
   "id": "05fca2f9",
   "metadata": {},
   "source": [
    "Question 2. What are the three different types of Boolean operators?"
   ]
  },
  {
   "cell_type": "markdown",
   "id": "361af0a2",
   "metadata": {},
   "source": [
    "Answer 2: and, or, and not operator are three different types of Boolean operators"
   ]
  },
  {
   "cell_type": "markdown",
   "id": "841ab67d",
   "metadata": {},
   "source": [
    "Questions 3. Make a list of each Boolean operator&#39;s truth tables (i.e. every possible combination of Boolean\n",
    "values for the operator and what it evaluate )."
   ]
  },
  {
   "cell_type": "markdown",
   "id": "a164c583",
   "metadata": {},
   "source": [
    "Answer 3: The possinle combinations are as below\n",
    "    \n",
    "True and True is True.\n",
    "\n",
    "True and False is False.\n",
    "\n",
    "False and True is False.\n",
    "\n",
    "False and False is False.\n",
    "\n",
    "True or True is True.\n",
    "\n",
    "True or False is True.\n",
    "\n",
    "False or True is True.\n",
    "\n",
    "False or False is False.\n",
    "\n",
    "not True is False.\n",
    "\n",
    "not False is True."
   ]
  },
  {
   "cell_type": "markdown",
   "id": "6a2ef260",
   "metadata": {},
   "source": [
    "Question 4. What are the values of the following expressions?\n",
    "(5 &gt; 4) and (3 == 5)\n",
    "not (5 &gt; 4)\n",
    "(5 &gt; 4) or (3 == 5)\n",
    "not ((5 &gt; 4) or (3 == 5))\n",
    "(True and True) and (True == False)\n",
    "(not False) or (not True)"
   ]
  },
  {
   "cell_type": "markdown",
   "id": "c81e258a",
   "metadata": {},
   "source": [
    "Answer 4:\n",
    "1. (5 > 4) and (3 == 5) - False\n",
    "2. not (5 > 4) - False\n",
    "3. (5 > 4) or (3 == 5) - True\n",
    "4. not ((5 > 4) or (3 == 5)) - False\n",
    "5. (True and True) and (True == False) - False\n",
    "6. (not False) or (not True) - True"
   ]
  },
  {
   "cell_type": "markdown",
   "id": "69fcea53",
   "metadata": {},
   "source": [
    "Question 5. What are the six comparison operators?"
   ]
  },
  {
   "cell_type": "markdown",
   "id": "f7f8af8c",
   "metadata": {},
   "source": [
    "Answer 5: ==, !=, <, >, <=, and >=."
   ]
  },
  {
   "cell_type": "markdown",
   "id": "21c1403a",
   "metadata": {},
   "source": [
    "Question 6. How do you tell the difference between the equal to and assignment operators?Describe a\n",
    "condition and when you would use one."
   ]
  },
  {
   "cell_type": "markdown",
   "id": "3c762222",
   "metadata": {},
   "source": [
    "Answer 6: == is the equal to operator that compares two values and evaluates to a Boolean, while = is the assignment operator that stores a value in a variable."
   ]
  },
  {
   "cell_type": "markdown",
   "id": "71d978fc",
   "metadata": {},
   "source": [
    "Question 7. Identify the three blocks in this code:\n",
    "spam = 0\n",
    "if spam == 10:\n",
    "print(&#39;eggs&#39;)\n",
    "if spam &gt; 5:\n",
    "print(&#39;bacon&#39;)\n",
    "else:\n",
    "print(&#39;ham&#39;)\n",
    "print(&#39;spam&#39;)\n",
    "print(&#39;spam&#39;)"
   ]
  },
  {
   "cell_type": "markdown",
   "id": "eb102c72",
   "metadata": {},
   "source": [
    "Answer 7:\n",
    "    \n",
    "The three blocks are everything inside the if statement and the lines print('bacon') and print('ham').\n",
    "\n",
    "print('eggs')\n",
    "if spam > 5:\n",
    "print('bacon')\n",
    "else:\n",
    "print('ham')\n",
    "print('spam')"
   ]
  },
  {
   "cell_type": "markdown",
   "id": "e4a1c5e7",
   "metadata": {},
   "source": [
    "Question 8. Write code that prints Hello if 1 is stored in spam, prints Howdy if 2 is stored in spam, and prints\n",
    "Greetings! if anything else is stored in spam."
   ]
  },
  {
   "cell_type": "code",
   "execution_count": null,
   "id": "38219f52",
   "metadata": {},
   "outputs": [],
   "source": [
    "## Answer 8:\n",
    "\n",
    "spam=int(input(\"Enter the value of spam in integer values: \"))\n",
    "if spam == 1:\n",
    "    print(\"Hello\")\n",
    "elif spam==2:\n",
    "    print(\"Howdy\")\n",
    "else:\n",
    "    print(\"Greetings!\")"
   ]
  },
  {
   "cell_type": "markdown",
   "id": "27d66260",
   "metadata": {},
   "source": [
    "Question 9.If your programme is stuck in an endless loop, what keys you’ll press?"
   ]
  },
  {
   "cell_type": "markdown",
   "id": "e1e8f502",
   "metadata": {},
   "source": [
    "Answer 9: Press CTRL-C to stop a program stuck in an infinite loop."
   ]
  },
  {
   "cell_type": "markdown",
   "id": "6ec1362c",
   "metadata": {},
   "source": [
    "Question 10. How can you tell the difference between break and continue?"
   ]
  },
  {
   "cell_type": "markdown",
   "id": "8a22c3b0",
   "metadata": {},
   "source": [
    "Answer 10:The break statement terminates the whole iteration of a loop whereas continue skips the current iteration."
   ]
  },
  {
   "cell_type": "markdown",
   "id": "998c866c",
   "metadata": {},
   "source": [
    "Question 11. In a for loop, what is the difference between range(10), range(0, 10), and range(0, 10, 1)?"
   ]
  },
  {
   "cell_type": "markdown",
   "id": "a2c7f30b",
   "metadata": {},
   "source": [
    "Answer 11: No difference, all 3 functions generates same number of values from 0 to 9"
   ]
  },
  {
   "cell_type": "markdown",
   "id": "7a7418a3",
   "metadata": {},
   "source": [
    "Question 12. Write a short program that prints the numbers 1 to 10 using a for loop. Then write an equivalent\n",
    "program that prints the numbers 1 to 10 using a while loop."
   ]
  },
  {
   "cell_type": "code",
   "execution_count": 3,
   "id": "4ae63fa0",
   "metadata": {},
   "outputs": [
    {
     "name": "stdout",
     "output_type": "stream",
     "text": [
      "1\n",
      "2\n",
      "3\n",
      "4\n",
      "5\n",
      "6\n",
      "7\n",
      "8\n",
      "9\n",
      "10\n"
     ]
    }
   ],
   "source": [
    "for i in range(1,11):\n",
    "    print(i)"
   ]
  },
  {
   "cell_type": "code",
   "execution_count": 8,
   "id": "84e37fc3",
   "metadata": {},
   "outputs": [
    {
     "name": "stdout",
     "output_type": "stream",
     "text": [
      "1\n",
      "2\n",
      "3\n",
      "4\n",
      "5\n",
      "6\n",
      "7\n",
      "8\n",
      "9\n",
      "10\n"
     ]
    }
   ],
   "source": [
    "x=1\n",
    "while x <= 10:\n",
    "    print(x)\n",
    "    x=x+1"
   ]
  },
  {
   "cell_type": "markdown",
   "id": "53b15881",
   "metadata": {},
   "source": [
    "Question 13. If you had a function named bacon() inside a module named spam, how would you call it after\n",
    "importing spam?"
   ]
  },
  {
   "cell_type": "markdown",
   "id": "919b6fe0",
   "metadata": {},
   "source": [
    "Answer 13: The function can be called with spam.bacon()"
   ]
  },
  {
   "cell_type": "code",
   "execution_count": null,
   "id": "14b1013f",
   "metadata": {},
   "outputs": [],
   "source": []
  }
 ],
 "metadata": {
  "kernelspec": {
   "display_name": "Python 3 (ipykernel)",
   "language": "python",
   "name": "python3"
  },
  "language_info": {
   "codemirror_mode": {
    "name": "ipython",
    "version": 3
   },
   "file_extension": ".py",
   "mimetype": "text/x-python",
   "name": "python",
   "nbconvert_exporter": "python",
   "pygments_lexer": "ipython3",
   "version": "3.9.7"
  }
 },
 "nbformat": 4,
 "nbformat_minor": 5
}
